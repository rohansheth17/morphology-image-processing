{
  "nbformat": 4,
  "nbformat_minor": 0,
  "metadata": {
    "colab": {
      "name": "Task 1.ipynb",
      "provenance": [],
      "collapsed_sections": []
    },
    "kernelspec": {
      "name": "python3",
      "display_name": "Python 3"
    }
  },
  "cells": [
    {
      "cell_type": "code",
      "metadata": {
        "id": "YAm4qgbzqVPZ",
        "colab_type": "code",
        "outputId": "409bc215-96f8-4a48-f47d-67c1f771d1ae",
        "colab": {
          "base_uri": "https://localhost:8080/",
          "height": 507
        }
      },
      "source": [
        "import numpy as np\n",
        "import matplotlib.pyplot as plt\n",
        "import cv2 \n",
        "\n",
        "\n",
        "img = cv2.imread(\"noise.jpg\",0)\n",
        "# img = cv2.imread(\"d.jpg\",0)\n",
        "# img1 = cv2.imread(\"bound1.jpg\",0)\n",
        "\n",
        "\n",
        "ret,thresh1 = cv2.threshold(img,127,255,cv2.THRESH_BINARY)\n",
        "\n",
        "im = np.asarray(thresh1)\n",
        "\n",
        "print (im.shape)\n",
        "\n",
        "print (im)\n",
        "# plt.imshow(im)\n",
        "for i in range(0,310):\n",
        "  for j in range(0,351):\n",
        "    im[i][j]= 255 - im[i][j]\n",
        "    if(im[i][j]!=0):\n",
        "      im[i][j]=1\n",
        "\n",
        "# im = np.pad(im, pad_width=1, mode='constant', constant_values=1)   \n",
        "\n",
        "# img1 = cv2.imread(\"res_noise2.jpg\",0)\n",
        "\n",
        "\n",
        "# for i in range(0,310):\n",
        "#   for j in range(0,351):\n",
        "#       if(im[i][j]==1):\n",
        "#           im[i][j]=0\n",
        "#       elif(im[i][j]==0):\n",
        "#           im[i][j]=1\n",
        "\n",
        "\n",
        "# for i in range(0,310):\n",
        "#   for j in range(0,351):\n",
        "#     if(im[i][j]!=1):\n",
        "#         print (im[i][j])\n",
        "\n",
        "# print (im[200][2])\n",
        "\n",
        "plt.imshow(im)\n",
        "\n",
        "kernel = [[0,0,0],[0,0,0],[0,0,0]]         # WHITE = 0, BLACK = 1\n",
        "T=9\n",
        "kernel = np.array(kernel)\n",
        "print (kernel.shape)\n",
        "\n",
        "# plt.imshow(im)\n",
        "\n",
        "# im = np.pad(im, pad_width=1, mode='constant', constant_values=1)\n",
        "\n",
        "# plt.imshow(im)\n",
        "\n",
        "# print (im.shape)\n",
        "\n",
        "# for x in range(1, 311):\n",
        "#         for y in range(1, 352):\n",
        "#             t = (im[x - 1, y - 1] * kernel[0, 0] + im[x - 1, y] * kernel[0, 1] + im[x - 1, y + 1] * kernel[0, 2] +\n",
        "#                                 im[x, y - 1] * kernel[1, 0] + im[x, y] * kernel[1, 1] + im[x, y + 1] * kernel[1, 2] +\n",
        "#                                 im[x + 1, y - 1] * kernel[2, 0] + im[x + 1, y] * kernel[2, 1] + im[x + 1, y + 1] * kernel[2, 2])\n",
        "#             if(t>=T):\n",
        "#                 im[x][y] = 0\n",
        "#             else:\n",
        "#                 im[x][y] = 1\n",
        "                \n",
        "# im1 = np.zeros(shape=(310, 351), dtype=int)\n",
        "\n",
        "# for i in range(0,310):\n",
        "#   for j in range(0,351):\n",
        "#     im1[i][j] = im[i+1][j+1]\n",
        "    \n",
        "    \n",
        "\n",
        "# print (im1.shape)    \n",
        "                "
      ],
      "execution_count": 0,
      "outputs": [
        {
          "output_type": "stream",
          "text": [
            "(310, 351)\n",
            "[[0 0 0 ... 0 0 0]\n",
            " [0 0 0 ... 0 0 0]\n",
            " [0 0 0 ... 0 0 0]\n",
            " ...\n",
            " [0 0 0 ... 0 0 0]\n",
            " [0 0 0 ... 0 0 0]\n",
            " [0 0 0 ... 0 0 0]]\n",
            "(3, 3)\n"
          ],
          "name": "stdout"
        },
        {
          "output_type": "display_data",
          "data": {
            "image/png": "[encoded data removed]",
            "text/plain": [
              "<matplotlib.figure.Figure at 0x7f43a50ad898>"
            ]
          },
          "metadata": {
            "tags": []
          }
        }
      ]
    },
    {
      "cell_type": "code",
      "metadata": {
        "id": "cqrV4_mSPv-l",
        "colab_type": "code",
        "colab": {}
      },
      "source": [
        "# im = np.pad(im, pad_width=1, mode='constant', constant_values=1)\n",
        "\n",
        "# plt.imshow(im)\n",
        "\n",
        "# print (im.shape)"
      ],
      "execution_count": 0,
      "outputs": []
    },
    {
      "cell_type": "code",
      "metadata": {
        "id": "uavhSGq4Zwpu",
        "colab_type": "code",
        "colab": {}
      },
      "source": [
        ""
      ],
      "execution_count": 0,
      "outputs": []
    },
    {
      "cell_type": "code",
      "metadata": {
        "id": "dXqpKiQqRoX8",
        "colab_type": "code",
        "colab": {}
      },
      "source": [
        "#EROSION\n",
        "im1 = np.zeros(shape=(310, 351), dtype=int)\n",
        "for x in range(0, 308):\n",
        "        for y in range(0, 349):\n",
        "            if((im[x, y] == kernel[0, 0]) and (im[x, y+1] == kernel[0, 1]) and (im[x, y + 2] == kernel[0, 2]) and (im[x+1, y] == kernel[1, 0]) and (im[x+1, y+1] == kernel[1, 1]) and (im[x+1, y + 2] == kernel[1, 2]) and (im[x + 2, y] == kernel[2, 0]) and (im[x + 2, y+1] == kernel[2, 1]) and (im[x + 2, y + 2] == kernel[2, 2])):\n",
        "                im[x, y] = 0\n",
        "                im1[x, y] = 0\n",
        "            elif((im[x, y] == kernel[0, 0]) or (im[x, y+1] == kernel[0, 1]) or (im[x, y + 2] == kernel[0, 2]) or (im[x+1, y] == kernel[1, 0]) or (im[x+1, y+1] == kernel[1, 1]) or (im[x+1, y + 2] == kernel[1, 2]) or (im[x + 2, y] == kernel[2, 0]) or (im[x + 2, y+1] == kernel[2, 1]) or (im[x + 2, y + 2] == kernel[2, 2])):\n",
        "                im[x, y] = 1\n",
        "                im1[x, y] = 1\n",
        "            elif((im[x, y] != kernel[0, 0]) and (im[x, y+1] != kernel[0, 1]) and (im[x, y + 2] != kernel[0, 2]) and (im[x+1, y] != kernel[1, 0]) and (im[x+1, y+1] != kernel[1, 1]) and (im[x+1, y + 2] != kernel[1, 2]) and (im[x + 2, y] != kernel[2, 0]) and (im[x + 2, y+1] != kernel[2, 1]) and (im[x + 2, y + 2] != kernel[2, 2])):\n",
        "                im[x, y] = 1\n",
        "                im1[x, y] = 1\n",
        "                \n",
        "plt.imsave(\"a.jpg\", im1)              \n",
        "        \n",
        "im2 = np.zeros(shape=(310, 351), dtype=int)\n",
        "\n",
        "\n",
        "#DILATION\n",
        "for x in range(0, 308):\n",
        "        for y in range(0, 349):\n",
        "            if((im[x, y] == kernel[0, 0]) and (im[x, y+1] == kernel[0, 1]) and (im[x, y + 2] == kernel[0, 2]) and (im[x+1, y] == kernel[1, 0]) and (im[x+1, y+1] == kernel[1, 1]) and (im[x+1, y + 2] == kernel[1, 2]) and (im[x + 2, y] == kernel[2, 0]) and (im[x + 2, y+1] == kernel[2, 1]) and (im[x + 2, y + 2] == kernel[2, 2])):\n",
        "                im[x,y] = 0\n",
        "                im2[x, y] = 0\n",
        "            elif((im[x, y] == kernel[0, 0]) or (im[x, y+1] == kernel[0, 1]) or (im[x, y + 2] == kernel[0, 2]) or (im[x+1, y] == kernel[1, 0]) or (im[x+1, y+1] == kernel[1, 1]) or (im[x+1, y + 2] == kernel[1, 2]) or (im[x + 2, y] == kernel[2, 0]) or (im[x + 2, y+1] == kernel[2, 1]) or (im[x + 2, y + 2] == kernel[2, 2])):\n",
        "                im[x, y] = 0\n",
        "                im2[x, y] = 0\n",
        "            elif((im[x, y] != kernel[0, 0]) and (im[x, y+1] != kernel[0, 1]) and (im[x, y + 2] != kernel[0, 2]) and (im[x+1, y] != kernel[1, 0]) and (im[x+1, y+1] != kernel[1, 1]) and (im[x+1, y + 2] != kernel[1, 2]) and (im[x + 2, y] != kernel[2, 0]) and (im[x + 2, y+1] != kernel[2, 1]) and (im[x + 2, y + 2] != kernel[2, 2])):\n",
        "                im[x, y] = 1\n",
        "                im2[x, y] = 1\n",
        "                \n",
        "plt.imsave(\"b.jpg\", im2)\n",
        "\n",
        "im3 = np.zeros(shape=(310, 351), dtype=int)  \n",
        "\n",
        "#DILATION\n",
        "for x in range(0, 308):\n",
        "        for y in range(0, 349):\n",
        "            if((im[x, y] == kernel[0, 0]) and (im[x, y+1] == kernel[0, 1]) and (im[x, y + 2] == kernel[0, 2]) and (im[x+1, y] == kernel[1, 0]) and (im[x+1, y+1] == kernel[1, 1]) and (im[x+1, y + 2] == kernel[1, 2]) and (im[x + 2, y] == kernel[2, 0]) and (im[x + 2, y+1] == kernel[2, 1]) and (im[x + 2, y + 2] == kernel[2, 2])):\n",
        "                im[x,y] = 0\n",
        "                im3[x, y] = 0\n",
        "            elif((im[x, y] == kernel[0, 0]) or (im[x, y+1] == kernel[0, 1]) or (im[x, y + 2] == kernel[0, 2]) or (im[x+1, y] == kernel[1, 0]) or (im[x+1, y+1] == kernel[1, 1]) or (im[x+1, y + 2] == kernel[1, 2]) or (im[x + 2, y] == kernel[2, 0]) or (im[x + 2, y+1] == kernel[2, 1]) or (im[x + 2, y + 2] == kernel[2, 2])):\n",
        "                im[x, y] = 0\n",
        "                im3[x, y] = 0\n",
        "            elif((im[x, y] != kernel[0, 0]) and (im[x, y+1] != kernel[0, 1]) and (im[x, y + 2] != kernel[0, 2]) and (im[x+1, y] != kernel[1, 0]) and (im[x+1, y+1] != kernel[1, 1]) and (im[x+1, y + 2] != kernel[1, 2]) and (im[x + 2, y] != kernel[2, 0]) and (im[x + 2, y+1] != kernel[2, 1]) and (im[x + 2, y + 2] != kernel[2, 2])):\n",
        "                im[x, y] = 1\n",
        "                im3[x, y] = 1\n",
        "\n",
        "                \n",
        "plt.imsave(\"c.jpg\", im3)\n",
        "\n",
        "im4 = np.zeros(shape=(310, 351), dtype=int)\n",
        "\n",
        "#EROSION               \n",
        "for x in range(0, 308):\n",
        "        for y in range(0, 349):\n",
        "            if((im[x, y] == kernel[0, 0]) and (im[x, y+1] == kernel[0, 1]) and (im[x, y + 2] == kernel[0, 2]) and (im[x+1, y] == kernel[1, 0]) and (im[x+1, y+1] == kernel[1, 1]) and (im[x+1, y + 2] == kernel[1, 2]) and (im[x + 2, y] == kernel[2, 0]) and (im[x + 2, y+1] == kernel[2, 1]) and (im[x + 2, y + 2] == kernel[2, 2])):\n",
        "                im[x,y] = 0\n",
        "                im4[x, y] = 0\n",
        "            elif((im[x, y] == kernel[0, 0]) or (im[x, y+1] == kernel[0, 1]) or (im[x, y + 2] == kernel[0, 2]) or (im[x+1, y] == kernel[1, 0]) or (im[x+1, y+1] == kernel[1, 1]) or (im[x+1, y + 2] == kernel[1, 2]) or (im[x + 2, y] == kernel[2, 0]) or (im[x + 2, y+1] == kernel[2, 1]) or (im[x + 2, y + 2] == kernel[2, 2])):\n",
        "                im[x, y] = 1\n",
        "                im4[x, y] = 1\n",
        "            elif((im[x, y] != kernel[0, 0]) and (im[x, y+1] != kernel[0, 1]) and (im[x, y + 2] != kernel[0, 2]) and (im[x+1, y] != kernel[1, 0]) and (im[x+1, y+1] != kernel[1, 1]) and (im[x+1, y + 2] != kernel[1, 2]) and (im[x + 2, y] != kernel[2, 0]) and (im[x + 2, y+1] != kernel[2, 1]) and (im[x + 2, y + 2] != kernel[2, 2])):\n",
        "                im[x, y] = 1\n",
        "                im4[x, y] = 1\n",
        "                \n",
        "                \n",
        "plt.imsave(\"d.jpg\", im4)\n"
      ],
      "execution_count": 0,
      "outputs": []
    },
    {
      "cell_type": "code",
      "metadata": {
        "id": "PAilKTiER5Tt",
        "colab_type": "code",
        "outputId": "f7ef4fa5-daec-4a60-a74d-a045fbc848b2",
        "colab": {
          "base_uri": "https://localhost:8080/",
          "height": 351
        }
      },
      "source": [
        "plt.imshow(im)\n",
        "im5 = np.zeros(shape=(310, 351), dtype=int)\n",
        "im7 = np.zeros(shape=(310, 351), dtype=int)\n",
        "im9 = np.zeros(shape=(310, 351), dtype=int)\n",
        "# plt.imsave(\"noiseless.jpg\", im)\n",
        "\n",
        "ret1,thresh2 = cv2.threshold(img,127,255,cv2.THRESH_BINARY)\n",
        "\n",
        "im6 = np.asarray(thresh2)\n",
        "\n",
        "for i in range(0,310):\n",
        "  for j in range(0,351):\n",
        "    im6[i][j]= 255 - im6[i][j]\n",
        "    if(im6[i][j]!=0):\n",
        "      im6[i][j]=1\n",
        "      \n",
        "\n",
        "# img2 = cv2.imread(\"res_noise2.jpg\",0)\n",
        "\n",
        "ret2,thresh3 = cv2.threshold(img1,127,255,cv2.THRESH_BINARY)\n",
        "\n",
        "im8 = np.asarray(thresh3)\n",
        "\n",
        "for i in range(0,310):\n",
        "  for j in range(0,351):\n",
        "    im8[i][j]= 255 - im8[i][j]\n",
        "    if(im8[i][j]!=0):\n",
        "      im8[i][j]=1\n",
        "      \n",
        "\n",
        "# for i in range(0, 310):\n",
        "#         for j in range(0, 351):\n",
        "#             if((im6[i][j] - im1[i][j]) < 0):           # noiseless image(Output of opening-closing) - eroded noiseless image\n",
        "#                 im5[i][j] = 0\n",
        "#             elif((im6[i][j] - im1[i][j]) == 0):\n",
        "#                 im5[i][j] = 1\n",
        "                \n",
        "                \n",
        "                \n",
        "for i in range(0, 310):\n",
        "        for j in range(0, 351):\n",
        "#             im7[i][j] = im2[i][j] - im4[i][j]         # opening(image) - closing(opening)\n",
        "            if((im2[i][j] - im4[i][j]) != 1):\n",
        "                 im7[i][j] = 1\n",
        "            elif((im2[i][j] - im4[i][j]) == 1):\n",
        "                 im7[i][j] = 0\n",
        "            \n",
        "\n",
        "# final = np.add(im7, im8)\n",
        "\n",
        "for i in range(0, 310):\n",
        "    for j in range(0, 351):\n",
        "        if((im7[i][j]+im8[i][j])==2):                 #Adding two images\n",
        "              im9[i][j] = 1\n",
        "        elif((im7[i][j]+im8[i][j])==1):\n",
        "              im9[i][j] = 0\n",
        "\n",
        "\n",
        "                \n",
        "# plt.imsave(\"bound1.jpg\", im5)\n",
        "plt.imsave(\"bound6.jpg\", im7)\n",
        "plt.imsave(\"boundfinal.jpg\", im9)\n"
      ],
      "execution_count": 0,
      "outputs": [
        {
          "output_type": "display_data",
          "data": {
            "image/png": "[encoded data removed]",
            "text/plain": [
              "<matplotlib.figure.Figure at 0x7f437f64d518>"
            ]
          },
          "metadata": {
            "tags": []
          }
        }
      ]
    },
    {
      "cell_type": "code",
      "metadata": {
        "id": "tf3vAsYlrg4l",
        "colab_type": "code",
        "colab": {}
      },
      "source": [
        "# for i in range(0, 310):\n",
        "#         for j in range(0, 351):\n",
        "#             if((im8[i][j] - im[i][j]) < 0):           # noiseless image - eroded noiseless image\n",
        "#                 im5[i][j] = 0\n",
        "#             elif((im8[i][j] - im[i][j]) == 0):\n",
        "#                 im5[i][j] = 1\n",
        "                \n",
        "# for i in range(0, 310):\n",
        "#         for j in range(0, 351):\n",
        "#             if((im8[i][j] - im6[i][j]) < 0):           # noiseless image - dilated noiseless image\n",
        "#                 im7[i][j] = 0\n",
        "#             elif((im8[i][j] - im6[i][j]) == 0):\n",
        "#                 im7[i][j] = 1\n",
        "                \n",
        "                \n",
        "                "
      ],
      "execution_count": 0,
      "outputs": []
    },
    {
      "cell_type": "code",
      "metadata": {
        "id": "Dh8RuGxPWMm3",
        "colab_type": "code",
        "colab": {}
      },
      "source": [
        ""
      ],
      "execution_count": 0,
      "outputs": []
    }
  ]
}