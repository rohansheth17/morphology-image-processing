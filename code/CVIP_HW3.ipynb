{
  "nbformat": 4,
  "nbformat_minor": 0,
  "metadata": {
    "colab": {
      "name": "CVIP HW3.ipynb",
      "provenance": [],
      "collapsed_sections": []
    },
    "kernelspec": {
      "display_name": "Python 3",
      "language": "python",
      "name": "python3"
    }
  },
  "cells": [
    {
      "cell_type": "code",
      "metadata": {
        "id": "eGHki6jc1pcr",
        "colab_type": "code",
        "outputId": "2c518563-1c16-4fcb-e551-685872386756",
        "colab": {
          "base_uri": "https://localhost:8080/",
          "height": 315
        }
      },
      "source": [
        "import os\n",
        "import matplotlib.pyplot as plt\n",
        "from skimage.data import data_dir\n",
        "from skimage import transform as tf\n",
        "from skimage.util import img_as_ubyte\n",
        "from skimage import io\n",
        "import cv2\n",
        "import numpy as np\n",
        "from skimage.filters import threshold_mean\n",
        "\n",
        "from skimage.morphology import erosion, dilation, opening, closing, white_tophat\n",
        "from skimage.morphology import black_tophat, skeletonize, convex_hull_image\n",
        "from skimage.morphology import disk, square, cube, rectangle, ball\n",
        "\n",
        "def plot_comparison(original, filtered, filter_name):\n",
        "\n",
        "    fig, (ax1, ax2) = plt.subplots(ncols=2, figsize=(8, 4), sharex=True,\n",
        "                                   sharey=True)\n",
        "    ax1.imshow(original, cmap=plt.cm.gray)\n",
        "    ax1.set_title('original')\n",
        "    ax1.axis('off')\n",
        "    ax2.imshow(filtered, cmap=plt.cm.gray)\n",
        "    ax2.set_title(filter_name)\n",
        "    ax2.axis('off')\n",
        "\n",
        "#image = cv2.imread('ron.JPG', 0)\n",
        "image = cv2.imread('saurabh.JPG', 0)\n",
        "print (image.ndim)\n",
        "thresh = threshold_mean(image)\n",
        "binary = image>thresh\n",
        "# selem2 = disk(16)\n",
        "selem = rectangle(14, 32)\n",
        "selem2 = rectangle(10,14)\n",
        "selem4 = rectangle(23, 1)\n",
        "selem5 = rectangle(8, 2)\n",
        "s5 = rectangle(16,5)\n",
        "s5 = disk(10)\n",
        "s6 = square(21)\n",
        "s7 = square(38)\n",
        "selem3 = rectangle(2, 2)\n",
        "# dilated = (image, selem2)\n",
        "# closed = closing(dilated, selem3)\n",
        "# dilated = dilation(opened, selem2)\n",
        "eroded = erosion(image, s6)\n",
        "# eroded1 = erosion(eroded, selem)\n",
        "eroded2 = closing(eroded, s7)\n",
        "# eroded3 = erosion(eroded2, selem5)\n",
        "\n",
        "# thresh2 = threshold_mean(eroded3)\n",
        "# binary = eroded3>thresh2\n",
        "\n",
        "# k1 = disk(14)\n",
        "# k2 = rectangle(60, 10)\n",
        "# k3 = disk(2)\n",
        "# k4 = disk(2)\n",
        "# k5 = square(22)\n",
        "# k6 = square(2)\n",
        "\n",
        "# l1 = erosion(image, k1)\n",
        "# l2 = opening(l1, k2)\n",
        "# l3 = dilation(l2, k3)\n",
        "# l4 = dilation(l3, k4)\n",
        "# l5 = closing(l4, k5)\n",
        "# l6 = opening(l4, k6)\n",
        "\n",
        "# #Subpart a\n",
        "\n",
        "# a1 = disk(8)\n",
        "# a3 = disk(4)\n",
        "# a2 = disk(10)\n",
        "\n",
        "# op1 = dilation(image, a1)\n",
        "# #op2 = erosion(op1, a3)\n",
        "# op2 = closing(op1, a2)\n",
        "\n",
        "#eroded3 = closing(eroded2, selem5)\n",
        "# eroded3 = dilation(eroded2, s5)\n",
        "# eroded4 = erosion(eroded3, s6)\n",
        "# eroded5 = dilation(eroded4, selem4)\n",
        "\n",
        "\n",
        "# binary = np.array(op1, dtype=np.uint8)\n",
        "\n",
        "M = np.float32([[1, 0, 11], [0, 1, 12]])\n",
        "\n",
        "(rows, cols) = eroded2.shape[:2]\n",
        "\n",
        "trans = cv2.warpAffine(eroded2, M, (cols, rows))\n",
        "\n",
        "# flipped_image = np.flip(trans, 1)\n",
        "\n",
        "# final = trans + flipped_image\n",
        "\n",
        "\n",
        "#eroded2 = opening(eroded1, selem2)\n",
        "# eroded2 = dilation(eroded1, s5)\n",
        "# eroded3 = dilation(eroded2, selem5)\n",
        "# eroded5 = opening(eroded3, selem3)\n",
        "# eroded2 = opening(eroded1, selem4)\n",
        "# eroded3 = opening(eroded2, s5)\n",
        "# eroded4 = opening(eroded3, s6)\n",
        "\n",
        "plot_comparison(image, trans, 'dilation')\n",
        "print (image.shape)\n",
        "# print(eroded.shape)\n",
        "# print(image)"
      ],
      "execution_count": 0,
      "outputs": [
        {
          "output_type": "stream",
          "text": [
            "2\n",
            "(176, 173)\n"
          ],
          "name": "stdout"
        },
        {
          "output_type": "display_data",
          "data": {
            "image/png": "[encoded data removed]",
            "text/plain": [
              "<matplotlib.figure.Figure at 0x7f134fa7f4e0>"
            ]
          },
          "metadata": {
            "tags": []
          }
        }
      ]
    },
    {
      "cell_type": "code",
      "metadata": {
        "id": "YWDqobNFFG23",
        "colab_type": "code",
        "outputId": "129de2ab-d34b-45d3-a8c4-196b60db479f",
        "colab": {
          "base_uri": "https://localhost:8080/",
          "height": 315
        }
      },
      "source": [
        "image = cv2.imread('ron.JPG', 0)\n",
        "#image = cv2.imread('saurabh.PNG', 0)\n",
        "print (image.ndim)\n",
        "# thresh = threshold_mean(image)\n",
        "# binary = image>thresh\n",
        "selem2 = disk(16)\n",
        "selem = rectangle(46, 8)\n",
        "#selem2 = rectangle(10,14)\n",
        "selem4 = rectangle(14, 6)\n",
        "selem5 = rectangle(5,10)\n",
        "s5 = rectangle(16,5)\n",
        "s5 = disk(2)\n",
        "s6 = disk(4)\n",
        "selem3 = rectangle(22, 22)\n",
        "selem6 = rectangle(2, 2)\n",
        "# dilated = (image, selem2)\n",
        "# closed = closing(dilated, selem3)\n",
        "# dilated = dilation(opened, selem2)\n",
        "eroded = erosion(image, selem2)\n",
        "eroded1 = opening(eroded, selem)\n",
        "eroded2 = dilation(eroded1, s5)\n",
        "eroded3 = dilation(eroded2, s6)\n",
        "eroded4 = closing(eroded3, selem3)\n",
        "eroded5 = opening(eroded4, selem6)\n",
        "\n",
        "thresh2 = threshold_mean(eroded3)\n",
        "binary = eroded3>thresh2\n",
        "\n",
        "\n",
        "#eroded3 = closing(eroded2, selem5)\n",
        "# eroded3 = dilation(eroded2, s5)\n",
        "# eroded4 = erosion(eroded3, s6)\n",
        "# eroded5 = dilation(eroded4, selem4)\n",
        "\n",
        "# k1 = square(6)\n",
        "# k2 = disk(12)\n",
        "\n",
        "\n",
        "# m1 = dilation(image, k1)\n",
        "# m2 = closing(m1, k2)\n",
        "\n",
        "#binary = np.array(binary, dtype=np.uint8)\n",
        "\n",
        "# M = np.float32([[1, 0, 32], [0, 1, 11]])\n",
        "\n",
        "# (rows, cols) = binary.shape[:2]\n",
        "\n",
        "# trans = cv2.warpAffine(binary, M, (cols, rows))\n",
        "\n",
        "# flipped_image = np.flip(trans, 1)\n",
        "\n",
        "# final = trans + flipped_image\n",
        "\n",
        "\n",
        "#eroded2 = opening(eroded1, selem2)\n",
        "# eroded2 = dilation(eroded1, s5)\n",
        "# eroded3 = dilation(eroded2, selem5)\n",
        "# eroded5 = opening(eroded3, selem3)\n",
        "# eroded2 = opening(eroded1, selem4)\n",
        "# eroded3 = opening(eroded2, s5)\n",
        "# eroded4 = opening(eroded3, s6)\n",
        "\n",
        "\n",
        "\n",
        "plot_comparison(image, eroded5, 'dilation')\n",
        "print (image.shape)\n",
        "# print(eroded.shape)\n",
        "# print(image)"
      ],
      "execution_count": 0,
      "outputs": [
        {
          "output_type": "stream",
          "text": [
            "2\n",
            "(174, 169)\n"
          ],
          "name": "stdout"
        },
        {
          "output_type": "display_data",
          "data": {
            "image/png": "[encoded data removed]",
            "text/plain": [
              "<matplotlib.figure.Figure at 0x7f134f487080>"
            ]
          },
          "metadata": {
            "tags": []
          }
        }
      ]
    },
    {
      "cell_type": "code",
      "metadata": {
        "id": "dF43FbZO1pc4",
        "colab_type": "code",
        "colab": {}
      },
      "source": [
        "\n"
      ],
      "execution_count": 0,
      "outputs": []
    },
    {
      "cell_type": "code",
      "metadata": {
        "id": "VZoMVlya1pc-",
        "colab_type": "code",
        "colab": {}
      },
      "source": [
        ""
      ],
      "execution_count": 0,
      "outputs": []
    }
  ]
}